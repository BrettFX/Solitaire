{
 "cells": [
  {
   "cell_type": "code",
   "execution_count": 7,
   "metadata": {},
   "outputs": [],
   "source": [
    "import glob\n",
    "import cv2\n",
    "import os"
   ]
  },
  {
   "cell_type": "code",
   "execution_count": 2,
   "metadata": {},
   "outputs": [
    {
     "data": {
      "text/plain": [
       "['Screenshot_20201115-150947_Solitaire.jpg',\n",
       " 'Screenshot_20201115-151326_Solitaire.jpg',\n",
       " 'Screenshot_20201115-151202_Solitaire.jpg',\n",
       " 'Screenshot_20201115-150903_Solitaire.jpg',\n",
       " 'Screenshot_20201115-150929_Solitaire.jpg',\n",
       " 'Screenshot_20201115-151343_Solitaire.jpg',\n",
       " 'Screenshot_20201115-151430_Solitaire.jpg',\n",
       " 'Screenshot_20201115-150922_Solitaire.jpg']"
      ]
     },
     "execution_count": 2,
     "metadata": {},
     "output_type": "execute_result"
    }
   ],
   "source": [
    "screenshot_files = glob.glob(\"Screenshot_*.jpg\")\n",
    "screenshot_files"
   ]
  },
  {
   "cell_type": "markdown",
   "metadata": {},
   "source": [
    "# Test"
   ]
  },
  {
   "cell_type": "code",
   "execution_count": 3,
   "metadata": {},
   "outputs": [
    {
     "name": "stdout",
     "output_type": "stream",
     "text": [
      "Original Dimensions :  (1080, 2220, 3)\n",
      "Resized Dimensions :  (1284, 2778, 3)\n"
     ]
    }
   ],
   "source": [
    "img = cv2.imread(screenshot_files[0], cv2.IMREAD_UNCHANGED)\n",
    " \n",
    "print('Original Dimensions : ',img.shape)\n",
    " \n",
    "# Set to 2778x1284\n",
    "width = 2778\n",
    "height = 1284\n",
    "dim = (width, height)\n",
    " \n",
    "# resize image\n",
    "resized = cv2.resize(img, dim, interpolation = cv2.INTER_AREA)\n",
    " \n",
    "print('Resized Dimensions : ',resized.shape)\n",
    " \n",
    "cv2.imshow(\"Resized image\", resized)\n",
    "cv2.waitKey(0)\n",
    "cv2.destroyAllWindows()"
   ]
  },
  {
   "cell_type": "code",
   "execution_count": 6,
   "metadata": {},
   "outputs": [
    {
     "data": {
      "text/plain": [
       "True"
      ]
     },
     "execution_count": 6,
     "metadata": {},
     "output_type": "execute_result"
    }
   ],
   "source": [
    "# Write the test image\n",
    "cv2.imwrite('test_{}x{}.jpg'.format(width, height), img)"
   ]
  },
  {
   "cell_type": "markdown",
   "metadata": {},
   "source": [
    "# Production"
   ]
  },
  {
   "cell_type": "code",
   "execution_count": 25,
   "metadata": {},
   "outputs": [],
   "source": [
    "def createResizedImages(files, output_dir, width, height):\n",
    "    \"\"\"\n",
    "    Iterate through a set of provided image files and create resized versions of them\n",
    "    based on the provided new dimensions (writes to the specified output directory)\n",
    "    \n",
    "    @param files      string array of file paths (ideally created with the glob module)\n",
    "    @param output_dir the output path to write all resized images to.\n",
    "    @param            width the new width of the images.\n",
    "    @param height     the new height of the images.\n",
    "    \"\"\"\n",
    "    # Make output dir if it doesn't exist yet\n",
    "    if not os.path.exists(output_dir):\n",
    "        print(\"{} did not exist. Creating now...\".format(output_dir))\n",
    "        os.makedirs(output_dir)\n",
    "    \n",
    "    new_dimensions = (width, height)\n",
    "    for f in files:\n",
    "        print(\"Processing {}...\".format(f))\n",
    "        \n",
    "        # Read the image \n",
    "        img = cv2.imread(f, cv2.IMREAD_UNCHANGED)\n",
    "\n",
    "        # Resize image\n",
    "        resized = cv2.resize(img, new_dimensions, interpolation = cv2.INTER_AREA)\n",
    "        \n",
    "        # Write the image\n",
    "        cv2.imwrite('{}/{}_{}x{}.jpg'.format(output_dir, f, width, height), resized)\n"
   ]
  },
  {
   "cell_type": "code",
   "execution_count": 27,
   "metadata": {},
   "outputs": [
    {
     "name": "stdout",
     "output_type": "stream",
     "text": [
      "iOS/iPhone_6.5_Display did not exist. Creating now...\n",
      "Processing Screenshot_20201115-150947_Solitaire.jpg...\n",
      "Processing Screenshot_20201115-151326_Solitaire.jpg...\n",
      "Processing Screenshot_20201115-151202_Solitaire.jpg...\n",
      "Processing Screenshot_20201115-150903_Solitaire.jpg...\n",
      "Processing Screenshot_20201115-150929_Solitaire.jpg...\n",
      "Processing Screenshot_20201115-151343_Solitaire.jpg...\n",
      "Processing Screenshot_20201115-151430_Solitaire.jpg...\n",
      "Processing Screenshot_20201115-150922_Solitaire.jpg...\n"
     ]
    }
   ],
   "source": [
    "createResizedImages(screenshot_files, \"iOS/iPhone_6.5_Display\", 2778, 1284)"
   ]
  },
  {
   "cell_type": "code",
   "execution_count": 23,
   "metadata": {},
   "outputs": [
    {
     "name": "stdout",
     "output_type": "stream",
     "text": [
      "iOS/iPhone_5.5_Display did not exist. Creating now...\n",
      "Processing Screenshot_20201115-150947_Solitaire.jpg...\n",
      "Processing Screenshot_20201115-151326_Solitaire.jpg...\n",
      "Processing Screenshot_20201115-151202_Solitaire.jpg...\n",
      "Processing Screenshot_20201115-150903_Solitaire.jpg...\n",
      "Processing Screenshot_20201115-150929_Solitaire.jpg...\n",
      "Processing Screenshot_20201115-151343_Solitaire.jpg...\n",
      "Processing Screenshot_20201115-151430_Solitaire.jpg...\n",
      "Processing Screenshot_20201115-150922_Solitaire.jpg...\n"
     ]
    }
   ],
   "source": [
    "createResizedImages(screenshot_files, \"iOS/iPhone_5.5_Display\", 2208, 1242)"
   ]
  },
  {
   "cell_type": "code",
   "execution_count": 26,
   "metadata": {},
   "outputs": [
    {
     "name": "stdout",
     "output_type": "stream",
     "text": [
      "Processing Screenshot_20201115-150947_Solitaire.jpg...\n",
      "Processing Screenshot_20201115-151326_Solitaire.jpg...\n",
      "Processing Screenshot_20201115-151202_Solitaire.jpg...\n",
      "Processing Screenshot_20201115-150903_Solitaire.jpg...\n",
      "Processing Screenshot_20201115-150929_Solitaire.jpg...\n",
      "Processing Screenshot_20201115-151343_Solitaire.jpg...\n",
      "Processing Screenshot_20201115-151430_Solitaire.jpg...\n",
      "Processing Screenshot_20201115-150922_Solitaire.jpg...\n"
     ]
    }
   ],
   "source": [
    "createResizedImages(screenshot_files, \"iOS/iPad_Pro_12.9_Display\", 2732, 2048)"
   ]
  },
  {
   "cell_type": "code",
   "execution_count": null,
   "metadata": {},
   "outputs": [],
   "source": []
  }
 ],
 "metadata": {
  "kernelspec": {
   "display_name": "Python 3",
   "language": "python",
   "name": "python3"
  },
  "language_info": {
   "codemirror_mode": {
    "name": "ipython",
    "version": 3
   },
   "file_extension": ".py",
   "mimetype": "text/x-python",
   "name": "python",
   "nbconvert_exporter": "python",
   "pygments_lexer": "ipython3",
   "version": "3.8.5"
  }
 },
 "nbformat": 4,
 "nbformat_minor": 4
}
